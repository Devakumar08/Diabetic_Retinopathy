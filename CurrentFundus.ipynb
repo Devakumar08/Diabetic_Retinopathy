{
  "nbformat": 4,
  "nbformat_minor": 0,
  "metadata": {
    "colab": {
      "provenance": [],
      "gpuType": "T4"
    },
    "kernelspec": {
      "name": "python3",
      "display_name": "Python 3"
    },
    "language_info": {
      "name": "python"
    },
    "accelerator": "GPU"
  },
  "cells": [
    {
      "cell_type": "code",
      "source": [
        "from google.colab import drive\n",
        "drive.mount('/content/drive')"
      ],
      "metadata": {
        "colab": {
          "base_uri": "https://localhost:8080/"
        },
        "id": "QMIfrHvy1Tcv",
        "outputId": "ae010c0a-07ef-4039-f6bf-2a612fc7a5ca"
      },
      "execution_count": null,
      "outputs": [
        {
          "output_type": "stream",
          "name": "stdout",
          "text": [
            "Drive already mounted at /content/drive; to attempt to forcibly remount, call drive.mount(\"/content/drive\", force_remount=True).\n"
          ]
        }
      ]
    },
    {
      "cell_type": "code",
      "execution_count": null,
      "metadata": {
        "id": "Wc7lANKaJiHw"
      },
      "outputs": [],
      "source": [
        "import tensorflow as tf\n",
        "import numpy as np\n",
        "from tensorflow.keras.layers import  MaxPooling2D\n",
        "from tensorflow.keras.layers import  GlobalMaxPooling2D\n",
        "from tensorflow.keras.layers import  GlobalAveragePooling2D\n",
        "from tensorflow import keras\n",
        "from tensorflow.keras.preprocessing.image import ImageDataGenerator\n",
        "from tensorflow.keras import layers, optimizers\n",
        "import os\n",
        "from sklearn.preprocessing import LabelEncoder\n",
        "from keras.utils import to_categorical\n",
        "from PIL import Image\n",
        "import pathlib\n",
        "from sklearn.preprocessing import MinMaxScaler\n",
        "from tensorflow.keras.models import Sequential\n",
        "from tensorflow.keras.layers import Conv2D, MaxPooling2D, Flatten, Dense, Dropout\n",
        "from sklearn.model_selection import train_test_split\n",
        "\n",
        "Data = \"/content/drive/MyDrive/Fundus_images\""
      ]
    },
    {
      "cell_type": "code",
      "source": [
        "import os\n",
        "from PIL import Image\n",
        "import numpy as np\n",
        "from sklearn.model_selection import train_test_split\n",
        "from sklearn.preprocessing import LabelEncoder\n",
        "\n",
        "class_directories = [\n",
        "    \"/content/drive/MyDrive/Fundus_images/Healthy\",\n",
        "    \"/content/drive/MyDrive/Fundus_images/Mild DR\",\n",
        "    \"/content/drive/MyDrive/Fundus_images/Moderate DR\",\n",
        "    \"/content/drive/MyDrive/Fundus_images/Proliferate DR\",\n",
        "    \"/content/drive/MyDrive/Fundus_images/Severe DR\"\n",
        "]\n",
        "\n",
        "# Initialize empty lists to store images and labels\n",
        "images = []\n",
        "labels = []\n",
        "\n",
        "# Load images and labels from each class directory\n",
        "for class_directory in class_directories:\n",
        "    print(f\"Loading images from class: {class_directory}\")\n",
        "    class_files = os.listdir(class_directory)\n",
        "\n",
        "    for class_file in class_files:\n",
        "        class_file_path = os.path.join(class_directory, class_file)\n",
        "\n",
        "        # Use Pillow to open the image\n",
        "        img = Image.open(class_file_path)\n",
        "\n",
        "        # Convert the image to a NumPy array and normalize if needed\n",
        "        img_array = np.array(img)\n",
        "\n",
        "        # Extract the class label from the directory name\n",
        "        class_label = os.path.basename(class_directory)\n",
        "\n",
        "        # Append the image and label to the overall lists\n",
        "        images.append(img_array)\n",
        "        labels.append(class_label)\n",
        "\n",
        "# Convert lists to numpy arrays\n",
        "images = np.array(images)\n",
        "labels = np.array(labels)\n",
        "\n",
        "# Use LabelEncoder to convert string labels to integers\n",
        "label_encoder = LabelEncoder()\n",
        "encoded_labels = label_encoder.fit_transform(labels)\n",
        "\n",
        "# Split the data into training and testing sets\n",
        "test_size = 0.2  # You can adjust this based on your preference\n",
        "\n",
        "X_train, X_test, train_labels, test_labels = train_test_split(\n",
        "    images, encoded_labels, test_size=test_size, random_state=42)\n",
        "\n",
        "# Print the unique labels in the training and testing sets\n",
        "print(\"Unique labels in train_labels:\", np.unique(train_labels))\n",
        "print(\"Unique labels in test_labels:\", np.unique(test_labels))\n"
      ],
      "metadata": {
        "colab": {
          "base_uri": "https://localhost:8080/"
        },
        "id": "xQvfvRmiaAyN",
        "outputId": "c1614bed-41e7-45ee-c858-e202c12e2a77"
      },
      "execution_count": null,
      "outputs": [
        {
          "output_type": "stream",
          "name": "stdout",
          "text": [
            "Loading images from class: /content/drive/MyDrive/Fundus_images/Healthy\n",
            "Loading images from class: /content/drive/MyDrive/Fundus_images/Mild DR\n",
            "Loading images from class: /content/drive/MyDrive/Fundus_images/Moderate DR\n",
            "Loading images from class: /content/drive/MyDrive/Fundus_images/Proliferate DR\n",
            "Loading images from class: /content/drive/MyDrive/Fundus_images/Severe DR\n",
            "Unique labels in train_labels: [0 1 2 3 4]\n",
            "Unique labels in test_labels: [0 1 2 3 4]\n"
          ]
        }
      ]
    },
    {
      "cell_type": "code",
      "source": [
        "# Initialize the scaler\n",
        "scaler = MinMaxScaler()\n",
        "\n",
        "# Flatten the images before scaling (assuming you have already reshaped them)\n",
        "X_train_flat = X_train.reshape(X_train.shape[0], -1)\n",
        "X_test_flat = X_test.reshape(X_test.shape[0], -1)\n",
        "\n",
        "# Fit the scaler on the training data and transform both training and testing data\n",
        "X_train_scaled = scaler.fit_transform(X_train_flat)\n",
        "X_test_scaled = scaler.transform(X_test_flat)\n",
        "\n",
        "# Reshape the scaled data back to the original shape\n",
        "X_train_scaled = X_train_scaled.reshape(X_train.shape)\n",
        "X_test_scaled = X_test_scaled.reshape(X_test.shape)"
      ],
      "metadata": {
        "id": "dbrcVHMnfxKL"
      },
      "execution_count": null,
      "outputs": []
    },
    {
      "cell_type": "code",
      "source": [
        "model = Sequential([\n",
        "    Conv2D(filters=10,\n",
        "           kernel_size=3,\n",
        "           strides=1,\n",
        "           padding='valid',\n",
        "           activation='relu'),\n",
        "    Conv2D(10, 3, activation='relu'),\n",
        "    Conv2D(10, 3, activation='relu'),\n",
        "    Flatten(),\n",
        "    Dense(5, activation='softmax')\n",
        "])"
      ],
      "metadata": {
        "id": "Wo09HBUjKPSf"
      },
      "execution_count": null,
      "outputs": []
    },
    {
      "cell_type": "code",
      "source": [
        "learning_rate = 0.001\n",
        "label_encoder = LabelEncoder()\n",
        "integer_labels = label_encoder.fit_transform(train_labels)\n",
        "\n",
        "# Convert integer labels to one-hot encoding\n",
        "y_train_one_hot = to_categorical(integer_labels)\n",
        "\n",
        "ll = optimizers.Adam(learning_rate)\n",
        "\n",
        "# Compile your model with the appropriate loss function for categorical data\n",
        "model.compile(optimizer=ll, loss='categorical_crossentropy', metrics=['accuracy'])\n",
        "\n",
        "# Train the model with both input data (X_train_scaled) and target data (y_train_one_hot)\n",
        "history = model.fit(X_train_scaled, y_train_one_hot, epochs=15, validation_split=0.2)\n",
        "\n",
        "\n"
      ],
      "metadata": {
        "id": "h_gGh365KSwU"
      },
      "execution_count": null,
      "outputs": []
    },
    {
      "cell_type": "code",
      "source": [
        "label_encod = LabelEncoder()\n",
        "test_labels = label_encod.fit_transform(test_labels)\n",
        "\n",
        "# Convert integer labels to one-hot encoding\n",
        "y_test = to_categorical(test_labels)\n",
        "test_loss, test_accuracy = model.evaluate(X_test_scaled,y_test)\n",
        "print(\"Test accuracy:\", test_accuracy)\n",
        "print(\"Test loss:\", test_loss)"
      ],
      "metadata": {
        "id": "EA9FuLrvKYq4"
      },
      "execution_count": null,
      "outputs": []
    }
  ]
}