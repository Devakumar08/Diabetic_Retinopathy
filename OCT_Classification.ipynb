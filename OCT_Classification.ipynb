{
 "cells": [
  {
   "cell_type": "code",
   "execution_count": 41,
   "id": "cdf81140",
   "metadata": {
    "scrolled": true
   },
   "outputs": [
    {
     "name": "stdout",
     "output_type": "stream",
     "text": [
      "There are {len(dirnames)} directories and {len(filenames)} images in '{dirpath}'.\n",
      "There are {len(dirnames)} directories and {len(filenames)} images in '{dirpath}'.\n",
      "There are {len(dirnames)} directories and {len(filenames)} images in '{dirpath}'.\n",
      "There are {len(dirnames)} directories and {len(filenames)} images in '{dirpath}'.\n",
      "There are {len(dirnames)} directories and {len(filenames)} images in '{dirpath}'.\n",
      "There are {len(dirnames)} directories and {len(filenames)} images in '{dirpath}'.\n",
      "There are {len(dirnames)} directories and {len(filenames)} images in '{dirpath}'.\n",
      ".jpeg ['test', 'train']\n",
      "Found 100 files belonging to 2 classes.\n",
      "Found 484 files belonging to 2 classes.\n"
     ]
    }
   ],
   "source": [
    "import os\n",
    "import tensorflow as tf\n",
    "from tensorflow import keras\n",
    "\n",
    "for dirpath, dirnames, filenames in os.walk(r\"C:\\Users\\Dev\\Desktop\\oct_images\"):\n",
    "    print(\"There are {len(dirnames)} directories and {len(filenames)} images in '{dirpath}'.\")\n",
    "\n",
    "data=os.listdir(r\"C:\\Users\\Dev\\Desktop\\oct_images\")\n",
    "print(\".jpeg\",data)\n",
    "\n",
    "train_dir = r\"C:\\Users\\Dev\\Desktop\\oct_images\\train\"\n",
    "test_dir = r\"C:\\Users\\Dev\\Desktop\\oct_images\\test\"\n",
    "\n",
    "# setup data inputs\n",
    "import tensorflow as tf\n",
    "IMG_SIZE = (300, 300)\n",
    "test_data = tf.keras.preprocessing.image_dataset_from_directory(test_dir,\n",
    "                                                                label_mode=\"categorical\",\n",
    "                                                                image_size=IMG_SIZE,\n",
    "                                                                shuffle=False)\n",
    "train_data = tf.keras.preprocessing.image_dataset_from_directory(train_dir,\n",
    "                                                                 label_mode=\"categorical\",\n",
    "                                                                 image_size=IMG_SIZE, \n",
    "                                                                 shuffle=True)\n",
    " #dont shuffle test data for prediction analysis"
   ]
  },
  {
   "cell_type": "code",
   "execution_count": 42,
   "id": "4d87a057",
   "metadata": {
    "scrolled": true
   },
   "outputs": [
    {
     "name": "stdout",
     "output_type": "stream",
     "text": [
      "Epoch 1/20\n",
      "16/16 [==============================] - 67s 3s/step - loss: 1.1286 - accuracy: 0.5186\n",
      "Epoch 2/20\n",
      "16/16 [==============================] - 55s 3s/step - loss: 0.6147 - accuracy: 0.7190\n",
      "Epoch 3/20\n",
      "16/16 [==============================] - 56s 3s/step - loss: 0.4664 - accuracy: 0.7934\n",
      "Epoch 4/20\n",
      "16/16 [==============================] - 51s 3s/step - loss: 0.3789 - accuracy: 0.8471\n",
      "Epoch 5/20\n",
      "16/16 [==============================] - 48s 3s/step - loss: 0.2928 - accuracy: 0.8905\n",
      "Epoch 6/20\n",
      "16/16 [==============================] - 45s 3s/step - loss: 0.1957 - accuracy: 0.9153\n",
      "Epoch 7/20\n",
      "16/16 [==============================] - 46s 3s/step - loss: 0.1408 - accuracy: 0.9442\n",
      "Epoch 8/20\n",
      "16/16 [==============================] - 49s 3s/step - loss: 0.0753 - accuracy: 0.9752\n",
      "Epoch 9/20\n",
      "16/16 [==============================] - 50s 3s/step - loss: 0.0448 - accuracy: 0.9835\n",
      "Epoch 10/20\n",
      "16/16 [==============================] - 46s 3s/step - loss: 0.0302 - accuracy: 0.9917\n",
      "Epoch 11/20\n",
      "16/16 [==============================] - 48s 3s/step - loss: 0.0085 - accuracy: 1.0000\n",
      "Epoch 12/20\n",
      "16/16 [==============================] - 46s 3s/step - loss: 0.0046 - accuracy: 1.0000\n",
      "Epoch 13/20\n",
      "16/16 [==============================] - 46s 3s/step - loss: 0.0024 - accuracy: 1.0000\n",
      "Epoch 14/20\n",
      "16/16 [==============================] - 47s 3s/step - loss: 0.0010 - accuracy: 1.0000\n",
      "Epoch 15/20\n",
      "16/16 [==============================] - 55s 3s/step - loss: 6.5400e-04 - accuracy: 1.0000\n",
      "Epoch 16/20\n",
      "16/16 [==============================] - 59s 4s/step - loss: 4.3185e-04 - accuracy: 1.0000\n",
      "Epoch 17/20\n",
      "16/16 [==============================] - 59s 4s/step - loss: 3.4666e-04 - accuracy: 1.0000\n",
      "Epoch 18/20\n",
      "16/16 [==============================] - 64s 4s/step - loss: 2.6509e-04 - accuracy: 1.0000\n",
      "Epoch 19/20\n",
      "16/16 [==============================] - 51s 3s/step - loss: 2.3369e-04 - accuracy: 1.0000\n",
      "Epoch 20/20\n",
      "16/16 [==============================] - 46s 3s/step - loss: 1.9125e-04 - accuracy: 1.0000\n",
      "4/4 [==============================] - 3s 479ms/step - loss: 0.9052 - accuracy: 0.8500\n",
      "Test Loss: 0.9052034616470337\n",
      "Test Accuracy: 0.8500000238418579\n"
     ]
    }
   ],
   "source": [
    "num_classes = len(train_data.class_names)\n",
    "\n",
    "# Preprocess the data\n",
    "train_data = train_data.prefetch(buffer_size=tf.data.experimental.AUTOTUNE)\n",
    "test_data = test_data.prefetch(buffer_size=tf.data.experimental.AUTOTUNE)\n",
    "\n",
    "# Define the learning rate\n",
    "learning_rate = 0.0012\n",
    "\n",
    "# Compile the model with a custom learning rate\n",
    "optimizer = tf.keras.optimizers.Adam(learning_rate=learning_rate)\n",
    "model.compile(optimizer=optimizer, loss=tf.losses.CategoricalCrossentropy(from_logits=True), metrics=['accuracy'])\n",
    "\n",
    "# Build the model\n",
    "model = keras.Sequential([\n",
    "    keras.layers.Rescaling(1./255, input_shape=(IMG_SIZE[0], IMG_SIZE[1], 3)),\n",
    "    keras.layers.Conv2D(32, 3, activation='relu'),\n",
    "    keras.layers.MaxPooling2D(),\n",
    "    keras.layers.Conv2D(64, 3, activation='relu'),\n",
    "    keras.layers.MaxPooling2D(),\n",
    "    keras.layers.Conv2D(128, 3, activation='relu'),\n",
    "    keras.layers.MaxPooling2D(),\n",
    "    \n",
    "    keras.layers.Flatten(),\n",
    "    keras.layers.Dense(128, activation='relu'),\n",
    "    keras.layers.Dense(num_classes, activation='softmax')\n",
    "])\n",
    "\n",
    "# Compile the model\n",
    "model.compile(optimizer='adam',\n",
    "              loss=tf.losses.CategoricalCrossentropy(from_logits=True),\n",
    "              metrics=['accuracy'])\n",
    "\n",
    "# Train the model\n",
    "epochs = 20\n",
    "history = model.fit(train_data, epochs=epochs)\n",
    "\n",
    "# Evaluate the model on the test data\n",
    "test_loss, test_accuracy = model.evaluate(test_data)\n",
    "print(f'Test Loss: {test_loss}')\n",
    "print(f'Test Accuracy: {test_accuracy}')"
   ]
  },
  {
   "cell_type": "code",
   "execution_count": null,
   "id": "f0f367e7",
   "metadata": {},
   "outputs": [],
   "source": []
  },
  {
   "cell_type": "code",
   "execution_count": null,
   "id": "760a8646",
   "metadata": {},
   "outputs": [],
   "source": []
  },
  {
   "cell_type": "code",
   "execution_count": null,
   "id": "f2fe969a",
   "metadata": {},
   "outputs": [],
   "source": []
  }
 ],
 "metadata": {
  "kernelspec": {
   "display_name": "Python 3 (ipykernel)",
   "language": "python",
   "name": "python3"
  },
  "language_info": {
   "codemirror_mode": {
    "name": "ipython",
    "version": 3
   },
   "file_extension": ".py",
   "mimetype": "text/x-python",
   "name": "python",
   "nbconvert_exporter": "python",
   "pygments_lexer": "ipython3",
   "version": "3.9.13"
  }
 },
 "nbformat": 4,
 "nbformat_minor": 5
}
